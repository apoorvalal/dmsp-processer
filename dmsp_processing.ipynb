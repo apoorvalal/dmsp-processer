{
 "cells": [
  {
   "cell_type": "code",
   "execution_count": 1,
   "metadata": {},
   "outputs": [],
   "source": [
    "# system imports\n",
    "import os\n",
    "import sys\n",
    "import glob\n",
    "import gzip\n",
    "import shutil\n",
    "import fnmatch\n",
    "from datetime import datetime\n",
    "# run for jupyter notebook\n",
    "from IPython.core.interactiveshell import InteractiveShell\n",
    "InteractiveShell.ast_node_interactivity = 'all'\n",
    "#%%"
   ]
  },
  {
   "cell_type": "markdown",
   "metadata": {},
   "source": [
    "## Unzip DMSP Archive Rasters"
   ]
  },
  {
   "cell_type": "code",
   "execution_count": 2,
   "metadata": {},
   "outputs": [
    {
     "name": "stdout",
     "output_type": "stream",
     "text": [
      "/home/alal/Desktop/code/spatial-experiments/dmsp_processing\n"
     ]
    }
   ],
   "source": [
    "code_root = \"/home/alal/Desktop/code/spatial-experiments/dmsp_processing\"\n",
    "data_root = \"/media/alal/LAL_DATA/Data/Geodata/DMSP-NightLights\"\n",
    "logs = os.path.join(code_root,'logs')\n",
    "%cd $code_root"
   ]
  },
  {
   "cell_type": "code",
   "execution_count": 3,
   "metadata": {},
   "outputs": [
    {
     "data": {
      "text/plain": [
       "46.79296875"
      ]
     },
     "execution_count": 3,
     "metadata": {},
     "output_type": "execute_result"
    }
   ],
   "source": [
    "((2014-1992)*3*726)/1024"
   ]
  },
  {
   "cell_type": "markdown",
   "metadata": {},
   "source": [
    "Create directories, set up log "
   ]
  },
  {
   "cell_type": "code",
   "execution_count": 4,
   "metadata": {},
   "outputs": [
    {
     "name": "stdout",
     "output_type": "stream",
     "text": [
      "Output in /media/alal/LAL_DATA/Data/Geodata/DMSP-NightLights/all_stable_lights/\n",
      "Log in /home/alal/Desktop/code/spatial-experiments/dmsp_processing/logs/dmsp_unzip_2018-03-18-19-06\n"
     ]
    }
   ],
   "source": [
    "timestamp = datetime.now().strftime('%Y-%m-%d-%H-%M')\n",
    "outdir = os.path.join(data_root,'all_stable_lights/')\n",
    "logfile = os.path.join(logs,'dmsp_unzip_{0}'.format(timestamp) )\n",
    "if not os.path.exists(outdir):\n",
    "    os.makedirs(outdir)\n",
    "\n",
    "print('Output in {0}'.format(outdir))\n",
    "print('Log in {0}'.format(logfile))"
   ]
  },
  {
   "cell_type": "markdown",
   "metadata": {},
   "source": [
    "Unzips average lights (after correcting for cloud-free nights) files in each year folder. These files are **large**. Totals approx **48 GB**"
   ]
  },
  {
   "cell_type": "code",
   "execution_count": 5,
   "metadata": {},
   "outputs": [],
   "source": [
    "%%capture cap \n",
    "pattern = '*stable_lights.avg_vis.tif.gz'\n",
    "for root, dirs, files in os.walk(data_root):\n",
    "    for filename in fnmatch.filter(files,pattern):\n",
    "        file = os.path.join(root, filename)\n",
    "        file_out = outdir + filename.replace('.gz','')\n",
    "        with gzip.open(file,'rb') as f_in:\n",
    "            with open(file_out,'wb') as f_out:\n",
    "                shutil.copyfileobj(f_in,f_out)\n",
    "        print('input: ',file)\n",
    "        print('output: ',file_out)               "
   ]
  },
  {
   "cell_type": "code",
   "execution_count": 6,
   "metadata": {},
   "outputs": [
    {
     "data": {
      "text/plain": [
       "5170"
      ]
     },
     "execution_count": 6,
     "metadata": {},
     "output_type": "execute_result"
    }
   ],
   "source": [
    "with open(logfile, 'w') as f:\n",
    "    f.write(cap.stdout)"
   ]
  }
 ],
 "metadata": {
  "kernelspec": {
   "display_name": "Python 3",
   "language": "python",
   "name": "python3"
  },
  "language_info": {
   "codemirror_mode": {
    "name": "ipython",
    "version": 3
   },
   "file_extension": ".py",
   "mimetype": "text/x-python",
   "name": "python",
   "nbconvert_exporter": "python",
   "pygments_lexer": "ipython3",
   "version": "3.5.4"
  }
 },
 "nbformat": 4,
 "nbformat_minor": 2
}
